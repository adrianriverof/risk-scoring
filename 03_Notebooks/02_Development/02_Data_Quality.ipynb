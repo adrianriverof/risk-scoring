{
 "cells": [
  {
   "cell_type": "markdown",
   "id": "a948aa92",
   "metadata": {},
   "source": [
    "# Data Quality"
   ]
  },
  {
   "cell_type": "code",
   "execution_count": 1,
   "id": "fc7d8985",
   "metadata": {},
   "outputs": [],
   "source": [
    "import numpy as np\n",
    "import pandas as pd\n",
    "from janitor import clean_names\n",
    "%config IPCompleter.greedy=True\n",
    "pd.options.display.float_format = '{:,.2f}'.format"
   ]
  },
  {
   "cell_type": "markdown",
   "id": "a61eaaed",
   "metadata": {},
   "source": [
    "## Import data"
   ]
  },
  {
   "cell_type": "code",
   "execution_count": 2,
   "id": "24745e42",
   "metadata": {
    "scrolled": false
   },
   "outputs": [
    {
     "data": {
      "text/html": [
       "<div>\n",
       "<style scoped>\n",
       "    .dataframe tbody tr th:only-of-type {\n",
       "        vertical-align: middle;\n",
       "    }\n",
       "\n",
       "    .dataframe tbody tr th {\n",
       "        vertical-align: top;\n",
       "    }\n",
       "\n",
       "    .dataframe thead th {\n",
       "        text-align: right;\n",
       "    }\n",
       "</style>\n",
       "<table border=\"1\" class=\"dataframe\">\n",
       "  <thead>\n",
       "    <tr style=\"text-align: right;\">\n",
       "      <th></th>\n",
       "      <th>employment</th>\n",
       "      <th>employment_duration</th>\n",
       "      <th>income</th>\n",
       "      <th>verified_income</th>\n",
       "      <th>rating</th>\n",
       "      <th>dti</th>\n",
       "      <th>housing</th>\n",
       "      <th>num_mortgages</th>\n",
       "      <th>num_credit_lines</th>\n",
       "      <th>pct_cards_75p</th>\n",
       "      <th>...</th>\n",
       "      <th>loan_id</th>\n",
       "      <th>description</th>\n",
       "      <th>purpose</th>\n",
       "      <th>principal</th>\n",
       "      <th>interest_rate</th>\n",
       "      <th>num_installments</th>\n",
       "      <th>installment_amount</th>\n",
       "      <th>amount_amortized</th>\n",
       "      <th>status</th>\n",
       "      <th>amount_recovered</th>\n",
       "    </tr>\n",
       "    <tr>\n",
       "      <th>client_id</th>\n",
       "      <th></th>\n",
       "      <th></th>\n",
       "      <th></th>\n",
       "      <th></th>\n",
       "      <th></th>\n",
       "      <th></th>\n",
       "      <th></th>\n",
       "      <th></th>\n",
       "      <th></th>\n",
       "      <th></th>\n",
       "      <th></th>\n",
       "      <th></th>\n",
       "      <th></th>\n",
       "      <th></th>\n",
       "      <th></th>\n",
       "      <th></th>\n",
       "      <th></th>\n",
       "      <th></th>\n",
       "      <th></th>\n",
       "      <th></th>\n",
       "      <th></th>\n",
       "    </tr>\n",
       "  </thead>\n",
       "  <tbody>\n",
       "    <tr>\n",
       "      <th>59561505</th>\n",
       "      <td>NaN</td>\n",
       "      <td>NaN</td>\n",
       "      <td>36,000.00</td>\n",
       "      <td>Verified</td>\n",
       "      <td>E</td>\n",
       "      <td>29.93</td>\n",
       "      <td>MORTGAGE</td>\n",
       "      <td>2.00</td>\n",
       "      <td>12.00</td>\n",
       "      <td>60.00</td>\n",
       "      <td>...</td>\n",
       "      <td>NaN</td>\n",
       "      <td>NaN</td>\n",
       "      <td>debt_consolidation</td>\n",
       "      <td>15,100.00</td>\n",
       "      <td>18.25</td>\n",
       "      <td>36 months</td>\n",
       "      <td>547.80</td>\n",
       "      <td>15,100.00</td>\n",
       "      <td>Fully Paid</td>\n",
       "      <td>0.00</td>\n",
       "    </tr>\n",
       "    <tr>\n",
       "      <th>443000</th>\n",
       "      <td>Clark County Nevada</td>\n",
       "      <td>2 years</td>\n",
       "      <td>59,363.00</td>\n",
       "      <td>Source Verified</td>\n",
       "      <td>C</td>\n",
       "      <td>14.47</td>\n",
       "      <td>RENT</td>\n",
       "      <td>NaN</td>\n",
       "      <td>5.00</td>\n",
       "      <td>NaN</td>\n",
       "      <td>...</td>\n",
       "      <td>NaN</td>\n",
       "      <td>In the last couple of months the interest rate...</td>\n",
       "      <td>credit_card</td>\n",
       "      <td>6,000.00</td>\n",
       "      <td>13.22</td>\n",
       "      <td>36 months</td>\n",
       "      <td>202.81</td>\n",
       "      <td>6,000.00</td>\n",
       "      <td>Fully Paid</td>\n",
       "      <td>0.00</td>\n",
       "    </tr>\n",
       "    <tr>\n",
       "      <th>27640646</th>\n",
       "      <td>AVP Finance</td>\n",
       "      <td>7 years</td>\n",
       "      <td>240,000.00</td>\n",
       "      <td>Source Verified</td>\n",
       "      <td>B</td>\n",
       "      <td>7.74</td>\n",
       "      <td>MORTGAGE</td>\n",
       "      <td>5.00</td>\n",
       "      <td>16.00</td>\n",
       "      <td>20.00</td>\n",
       "      <td>...</td>\n",
       "      <td>NaN</td>\n",
       "      <td>NaN</td>\n",
       "      <td>debt_consolidation</td>\n",
       "      <td>24,000.00</td>\n",
       "      <td>12.49</td>\n",
       "      <td>60 months</td>\n",
       "      <td>539.83</td>\n",
       "      <td>24,000.00</td>\n",
       "      <td>Fully Paid</td>\n",
       "      <td>0.00</td>\n",
       "    </tr>\n",
       "    <tr>\n",
       "      <th>31327120</th>\n",
       "      <td>RN</td>\n",
       "      <td>2 years</td>\n",
       "      <td>61,000.00</td>\n",
       "      <td>Not Verified</td>\n",
       "      <td>C</td>\n",
       "      <td>35.27</td>\n",
       "      <td>RENT</td>\n",
       "      <td>3.00</td>\n",
       "      <td>16.00</td>\n",
       "      <td>60.00</td>\n",
       "      <td>...</td>\n",
       "      <td>NaN</td>\n",
       "      <td>NaN</td>\n",
       "      <td>debt_consolidation</td>\n",
       "      <td>5,600.00</td>\n",
       "      <td>14.65</td>\n",
       "      <td>36 months</td>\n",
       "      <td>193.17</td>\n",
       "      <td>5,600.00</td>\n",
       "      <td>Fully Paid</td>\n",
       "      <td>0.00</td>\n",
       "    </tr>\n",
       "    <tr>\n",
       "      <th>94241181</th>\n",
       "      <td>Hotel Leader</td>\n",
       "      <td>10+ years</td>\n",
       "      <td>77,000.00</td>\n",
       "      <td>Verified</td>\n",
       "      <td>C</td>\n",
       "      <td>16.95</td>\n",
       "      <td>RENT</td>\n",
       "      <td>2.00</td>\n",
       "      <td>14.00</td>\n",
       "      <td>60.00</td>\n",
       "      <td>...</td>\n",
       "      <td>NaN</td>\n",
       "      <td>NaN</td>\n",
       "      <td>debt_consolidation</td>\n",
       "      <td>9,000.00</td>\n",
       "      <td>14.99</td>\n",
       "      <td>36 months</td>\n",
       "      <td>311.95</td>\n",
       "      <td>2,563.02</td>\n",
       "      <td>Charged Off</td>\n",
       "      <td>0.00</td>\n",
       "    </tr>\n",
       "    <tr>\n",
       "      <th>...</th>\n",
       "      <td>...</td>\n",
       "      <td>...</td>\n",
       "      <td>...</td>\n",
       "      <td>...</td>\n",
       "      <td>...</td>\n",
       "      <td>...</td>\n",
       "      <td>...</td>\n",
       "      <td>...</td>\n",
       "      <td>...</td>\n",
       "      <td>...</td>\n",
       "      <td>...</td>\n",
       "      <td>...</td>\n",
       "      <td>...</td>\n",
       "      <td>...</td>\n",
       "      <td>...</td>\n",
       "      <td>...</td>\n",
       "      <td>...</td>\n",
       "      <td>...</td>\n",
       "      <td>...</td>\n",
       "      <td>...</td>\n",
       "      <td>...</td>\n",
       "    </tr>\n",
       "    <tr>\n",
       "      <th>51876926</th>\n",
       "      <td>Office Manager</td>\n",
       "      <td>10+ years</td>\n",
       "      <td>42,000.00</td>\n",
       "      <td>Not Verified</td>\n",
       "      <td>C</td>\n",
       "      <td>20.85</td>\n",
       "      <td>MORTGAGE</td>\n",
       "      <td>6.00</td>\n",
       "      <td>9.00</td>\n",
       "      <td>100.00</td>\n",
       "      <td>...</td>\n",
       "      <td>NaN</td>\n",
       "      <td>NaN</td>\n",
       "      <td>debt_consolidation</td>\n",
       "      <td>8,000.00</td>\n",
       "      <td>12.29</td>\n",
       "      <td>36 months</td>\n",
       "      <td>266.83</td>\n",
       "      <td>8,000.00</td>\n",
       "      <td>Fully Paid</td>\n",
       "      <td>0.00</td>\n",
       "    </tr>\n",
       "    <tr>\n",
       "      <th>121031962</th>\n",
       "      <td>Owner &amp; President</td>\n",
       "      <td>6 years</td>\n",
       "      <td>111,697.00</td>\n",
       "      <td>Verified</td>\n",
       "      <td>B</td>\n",
       "      <td>16.63</td>\n",
       "      <td>MORTGAGE</td>\n",
       "      <td>2.00</td>\n",
       "      <td>10.00</td>\n",
       "      <td>50.00</td>\n",
       "      <td>...</td>\n",
       "      <td>NaN</td>\n",
       "      <td>NaN</td>\n",
       "      <td>other</td>\n",
       "      <td>10,000.00</td>\n",
       "      <td>9.44</td>\n",
       "      <td>36 months</td>\n",
       "      <td>320.05</td>\n",
       "      <td>4,388.51</td>\n",
       "      <td>Current</td>\n",
       "      <td>0.00</td>\n",
       "    </tr>\n",
       "    <tr>\n",
       "      <th>135641397</th>\n",
       "      <td>Sr. Field Engineer</td>\n",
       "      <td>10+ years</td>\n",
       "      <td>285,000.00</td>\n",
       "      <td>Source Verified</td>\n",
       "      <td>D</td>\n",
       "      <td>6.02</td>\n",
       "      <td>MORTGAGE</td>\n",
       "      <td>3.00</td>\n",
       "      <td>9.00</td>\n",
       "      <td>25.00</td>\n",
       "      <td>...</td>\n",
       "      <td>NaN</td>\n",
       "      <td>NaN</td>\n",
       "      <td>small_business</td>\n",
       "      <td>30,000.00</td>\n",
       "      <td>17.47</td>\n",
       "      <td>36 months</td>\n",
       "      <td>1,076.62</td>\n",
       "      <td>5,387.53</td>\n",
       "      <td>Current</td>\n",
       "      <td>0.00</td>\n",
       "    </tr>\n",
       "    <tr>\n",
       "      <th>53664762</th>\n",
       "      <td>Attorney</td>\n",
       "      <td>8 years</td>\n",
       "      <td>168,000.00</td>\n",
       "      <td>Source Verified</td>\n",
       "      <td>E</td>\n",
       "      <td>4.69</td>\n",
       "      <td>RENT</td>\n",
       "      <td>0.00</td>\n",
       "      <td>8.00</td>\n",
       "      <td>0.00</td>\n",
       "      <td>...</td>\n",
       "      <td>NaN</td>\n",
       "      <td>NaN</td>\n",
       "      <td>small_business</td>\n",
       "      <td>30,050.00</td>\n",
       "      <td>18.25</td>\n",
       "      <td>60 months</td>\n",
       "      <td>767.17</td>\n",
       "      <td>2,964.44</td>\n",
       "      <td>Charged Off</td>\n",
       "      <td>2,750.88</td>\n",
       "    </tr>\n",
       "    <tr>\n",
       "      <th>94394801</th>\n",
       "      <td>NaN</td>\n",
       "      <td>NaN</td>\n",
       "      <td>80,000.00</td>\n",
       "      <td>Not Verified</td>\n",
       "      <td>C</td>\n",
       "      <td>31.49</td>\n",
       "      <td>MORTGAGE</td>\n",
       "      <td>1.00</td>\n",
       "      <td>9.00</td>\n",
       "      <td>50.00</td>\n",
       "      <td>...</td>\n",
       "      <td>NaN</td>\n",
       "      <td>NaN</td>\n",
       "      <td>debt_consolidation</td>\n",
       "      <td>10,000.00</td>\n",
       "      <td>13.99</td>\n",
       "      <td>36 months</td>\n",
       "      <td>341.73</td>\n",
       "      <td>7,096.40</td>\n",
       "      <td>Current</td>\n",
       "      <td>0.00</td>\n",
       "    </tr>\n",
       "  </tbody>\n",
       "</table>\n",
       "<p>140000 rows × 24 columns</p>\n",
       "</div>"
      ],
      "text/plain": [
       "                    employment employment_duration     income  \\\n",
       "client_id                                                       \n",
       "59561505                   NaN                 NaN  36,000.00   \n",
       "443000     Clark County Nevada             2 years  59,363.00   \n",
       "27640646           AVP Finance             7 years 240,000.00   \n",
       "31327120                    RN             2 years  61,000.00   \n",
       "94241181          Hotel Leader           10+ years  77,000.00   \n",
       "...                        ...                 ...        ...   \n",
       "51876926        Office Manager           10+ years  42,000.00   \n",
       "121031962    Owner & President             6 years 111,697.00   \n",
       "135641397   Sr. Field Engineer           10+ years 285,000.00   \n",
       "53664762              Attorney             8 years 168,000.00   \n",
       "94394801                   NaN                 NaN  80,000.00   \n",
       "\n",
       "           verified_income rating   dti   housing  num_mortgages  \\\n",
       "client_id                                                          \n",
       "59561505          Verified      E 29.93  MORTGAGE           2.00   \n",
       "443000     Source Verified      C 14.47      RENT            NaN   \n",
       "27640646   Source Verified      B  7.74  MORTGAGE           5.00   \n",
       "31327120      Not Verified      C 35.27      RENT           3.00   \n",
       "94241181          Verified      C 16.95      RENT           2.00   \n",
       "...                    ...    ...   ...       ...            ...   \n",
       "51876926      Not Verified      C 20.85  MORTGAGE           6.00   \n",
       "121031962         Verified      B 16.63  MORTGAGE           2.00   \n",
       "135641397  Source Verified      D  6.02  MORTGAGE           3.00   \n",
       "53664762   Source Verified      E  4.69      RENT           0.00   \n",
       "94394801      Not Verified      C 31.49  MORTGAGE           1.00   \n",
       "\n",
       "           num_credit_lines  pct_cards_75p  ...  loan_id  \\\n",
       "client_id                                   ...            \n",
       "59561505              12.00          60.00  ...      NaN   \n",
       "443000                 5.00            NaN  ...      NaN   \n",
       "27640646              16.00          20.00  ...      NaN   \n",
       "31327120              16.00          60.00  ...      NaN   \n",
       "94241181              14.00          60.00  ...      NaN   \n",
       "...                     ...            ...  ...      ...   \n",
       "51876926               9.00         100.00  ...      NaN   \n",
       "121031962             10.00          50.00  ...      NaN   \n",
       "135641397              9.00          25.00  ...      NaN   \n",
       "53664762               8.00           0.00  ...      NaN   \n",
       "94394801               9.00          50.00  ...      NaN   \n",
       "\n",
       "                                                 description  \\\n",
       "client_id                                                      \n",
       "59561505                                                 NaN   \n",
       "443000     In the last couple of months the interest rate...   \n",
       "27640646                                                 NaN   \n",
       "31327120                                                 NaN   \n",
       "94241181                                                 NaN   \n",
       "...                                                      ...   \n",
       "51876926                                                 NaN   \n",
       "121031962                                                NaN   \n",
       "135641397                                                NaN   \n",
       "53664762                                                 NaN   \n",
       "94394801                                                 NaN   \n",
       "\n",
       "                      purpose  principal  interest_rate num_installments  \\\n",
       "client_id                                                                  \n",
       "59561505   debt_consolidation  15,100.00          18.25        36 months   \n",
       "443000            credit_card   6,000.00          13.22        36 months   \n",
       "27640646   debt_consolidation  24,000.00          12.49        60 months   \n",
       "31327120   debt_consolidation   5,600.00          14.65        36 months   \n",
       "94241181   debt_consolidation   9,000.00          14.99        36 months   \n",
       "...                       ...        ...            ...              ...   \n",
       "51876926   debt_consolidation   8,000.00          12.29        36 months   \n",
       "121031962               other  10,000.00           9.44        36 months   \n",
       "135641397      small_business  30,000.00          17.47        36 months   \n",
       "53664762       small_business  30,050.00          18.25        60 months   \n",
       "94394801   debt_consolidation  10,000.00          13.99        36 months   \n",
       "\n",
       "          installment_amount  amount_amortized       status amount_recovered  \n",
       "client_id                                                                     \n",
       "59561505              547.80         15,100.00   Fully Paid             0.00  \n",
       "443000                202.81          6,000.00   Fully Paid             0.00  \n",
       "27640646              539.83         24,000.00   Fully Paid             0.00  \n",
       "31327120              193.17          5,600.00   Fully Paid             0.00  \n",
       "94241181              311.95          2,563.02  Charged Off             0.00  \n",
       "...                      ...               ...          ...              ...  \n",
       "51876926              266.83          8,000.00   Fully Paid             0.00  \n",
       "121031962             320.05          4,388.51      Current             0.00  \n",
       "135641397           1,076.62          5,387.53      Current             0.00  \n",
       "53664762              767.17          2,964.44  Charged Off         2,750.88  \n",
       "94394801              341.73          7,096.40      Current             0.00  \n",
       "\n",
       "[140000 rows x 24 columns]"
      ]
     },
     "execution_count": 2,
     "metadata": {},
     "output_type": "execute_result"
    }
   ],
   "source": [
    "df = pd.read_csv('../../02_Data/03_Work/work.csv',\n",
    "                 index_col='client_id')\n",
    "df"
   ]
  },
  {
   "cell_type": "markdown",
   "id": "0c0650b5",
   "metadata": {},
   "source": [
    "### General vision"
   ]
  },
  {
   "cell_type": "code",
   "execution_count": 3,
   "id": "99398dff",
   "metadata": {},
   "outputs": [
    {
     "name": "stdout",
     "output_type": "stream",
     "text": [
      "<class 'pandas.core.frame.DataFrame'>\n",
      "Index: 140000 entries, 59561505 to 94394801\n",
      "Data columns (total 24 columns):\n",
      " #   Column                         Non-Null Count   Dtype  \n",
      "---  ------                         --------------   -----  \n",
      " 0   employment                     129740 non-null  object \n",
      " 1   employment_duration            131000 non-null  object \n",
      " 2   income                         140000 non-null  float64\n",
      " 3   verified_income                140000 non-null  object \n",
      " 4   rating                         140000 non-null  object \n",
      " 5   dti                            139900 non-null  float64\n",
      " 6   housing                        140000 non-null  object \n",
      " 7   num_mortgages                  136859 non-null  float64\n",
      " 8   num_credit_lines               139999 non-null  float64\n",
      " 9   pct_cards_75p                  135323 non-null  float64\n",
      " 10  pct_revolving_utilization      139892 non-null  float64\n",
      " 11  num_cancellations_12months     139994 non-null  float64\n",
      " 12  num_derogatories               139999 non-null  float64\n",
      " 13  months_since_last_delinquency  68188 non-null   float64\n",
      " 14  loan_id                        0 non-null       float64\n",
      " 15  description                    7862 non-null    object \n",
      " 16  purpose                        140000 non-null  object \n",
      " 17  principal                      140000 non-null  float64\n",
      " 18  interest_rate                  140000 non-null  float64\n",
      " 19  num_installments               140000 non-null  object \n",
      " 20  installment_amount             140000 non-null  float64\n",
      " 21  amount_amortized               140000 non-null  float64\n",
      " 22  status                         140000 non-null  object \n",
      " 23  amount_recovered               140000 non-null  float64\n",
      "dtypes: float64(15), object(9)\n",
      "memory usage: 26.7+ MB\n"
     ]
    }
   ],
   "source": [
    "df.info()"
   ]
  },
  {
   "cell_type": "markdown",
   "id": "ddd9624a",
   "metadata": {},
   "source": [
    "### Data Types"
   ]
  },
  {
   "cell_type": "code",
   "execution_count": 4,
   "id": "95290212",
   "metadata": {},
   "outputs": [
    {
     "data": {
      "text/plain": [
       "employment                        object\n",
       "employment_duration               object\n",
       "income                           float64\n",
       "verified_income                   object\n",
       "rating                            object\n",
       "dti                              float64\n",
       "housing                           object\n",
       "num_mortgages                    float64\n",
       "num_credit_lines                 float64\n",
       "pct_cards_75p                    float64\n",
       "pct_revolving_utilization        float64\n",
       "num_cancellations_12months       float64\n",
       "num_derogatories                 float64\n",
       "months_since_last_delinquency    float64\n",
       "loan_id                          float64\n",
       "description                       object\n",
       "purpose                           object\n",
       "principal                        float64\n",
       "interest_rate                    float64\n",
       "num_installments                  object\n",
       "installment_amount               float64\n",
       "amount_amortized                 float64\n",
       "status                            object\n",
       "amount_recovered                 float64\n",
       "dtype: object"
      ]
     },
     "execution_count": 4,
     "metadata": {},
     "output_type": "execute_result"
    }
   ],
   "source": [
    "df.dtypes"
   ]
  },
  {
   "cell_type": "markdown",
   "id": "b4b60c76",
   "metadata": {},
   "source": [
    "### Unique values"
   ]
  },
  {
   "cell_type": "code",
   "execution_count": 5,
   "id": "29037da3",
   "metadata": {},
   "outputs": [
    {
     "data": {
      "text/plain": [
       "loan_id                              0\n",
       "num_installments                     2\n",
       "verified_income                      3\n",
       "housing                              6\n",
       "num_cancellations_12months           7\n",
       "rating                               7\n",
       "status                               9\n",
       "employment_duration                 11\n",
       "purpose                             14\n",
       "num_derogatories                    18\n",
       "num_mortgages                       25\n",
       "num_credit_lines                    62\n",
       "months_since_last_delinquency      133\n",
       "pct_cards_75p                      172\n",
       "interest_rate                      580\n",
       "pct_revolving_utilization         1099\n",
       "principal                         1475\n",
       "dti                               5247\n",
       "description                       7839\n",
       "amount_recovered                 10562\n",
       "income                           11647\n",
       "installment_amount               33688\n",
       "employment                       54380\n",
       "amount_amortized                 57814\n",
       "dtype: int64"
      ]
     },
     "execution_count": 5,
     "metadata": {},
     "output_type": "execute_result"
    }
   ],
   "source": [
    "df.nunique().sort_values()"
   ]
  },
  {
   "cell_type": "code",
   "execution_count": 6,
   "id": "03bee8ef",
   "metadata": {},
   "outputs": [],
   "source": [
    "df.drop(columns='loan_id', inplace=True)"
   ]
  },
  {
   "cell_type": "markdown",
   "id": "54934f8e",
   "metadata": {},
   "source": [
    "### Duplicated"
   ]
  },
  {
   "cell_type": "code",
   "execution_count": 7,
   "id": "7d603e89",
   "metadata": {},
   "outputs": [
    {
     "data": {
      "text/plain": [
       "0"
      ]
     },
     "execution_count": 7,
     "metadata": {},
     "output_type": "execute_result"
    }
   ],
   "source": [
    "df.duplicated().sum()"
   ]
  },
  {
   "cell_type": "markdown",
   "id": "7508dc65",
   "metadata": {},
   "source": [
    "## Separate Num and Cat"
   ]
  },
  {
   "cell_type": "code",
   "execution_count": 8,
   "id": "f79a7a42",
   "metadata": {},
   "outputs": [],
   "source": [
    "cat = df.select_dtypes(exclude='number').copy()\n",
    "num = df.select_dtypes(include = 'number').copy()"
   ]
  },
  {
   "cell_type": "markdown",
   "id": "c80147cc",
   "metadata": {},
   "source": [
    "## Categorics"
   ]
  },
  {
   "cell_type": "code",
   "execution_count": 9,
   "id": "c400b2bb",
   "metadata": {},
   "outputs": [
    {
     "data": {
      "text/plain": [
       "(140000, 9)"
      ]
     },
     "execution_count": 9,
     "metadata": {},
     "output_type": "execute_result"
    }
   ],
   "source": [
    "cat.shape"
   ]
  },
  {
   "cell_type": "code",
   "execution_count": 10,
   "id": "e92a708d",
   "metadata": {},
   "outputs": [
    {
     "data": {
      "text/plain": [
       "description           94.38\n",
       "employment             7.33\n",
       "employment_duration    6.43\n",
       "rating                 0.00\n",
       "verified_income        0.00\n",
       "housing                0.00\n",
       "purpose                0.00\n",
       "num_installments       0.00\n",
       "status                 0.00\n",
       "dtype: float64"
      ]
     },
     "execution_count": 10,
     "metadata": {},
     "output_type": "execute_result"
    }
   ],
   "source": [
    "# nulls percentage\n",
    "\n",
    "(cat.isna().sum()/140000*100).sort_values(ascending = False)\n"
   ]
  },
  {
   "cell_type": "code",
   "execution_count": 11,
   "id": "4ced1b75",
   "metadata": {},
   "outputs": [
    {
     "data": {
      "text/plain": [
       "client_id\n",
       "443000     In the last couple of months the interest rate...\n",
       "550145       Borrower added on 07/25/10 > Using this loan...\n",
       "9068034      Borrower added on 11/25/13 > My loan will be...\n",
       "1334806      Borrower added on 06/04/12 > to pay my credi...\n",
       "5760323      Borrower added on 06/12/13 > I have been try...\n",
       "Name: description, dtype: object"
      ]
     },
     "execution_count": 11,
     "metadata": {},
     "output_type": "execute_result"
    }
   ],
   "source": [
    "# description has mostly nulls\n",
    "cat.description.dropna().head()"
   ]
  },
  {
   "cell_type": "code",
   "execution_count": 12,
   "id": "c157ec90",
   "metadata": {},
   "outputs": [],
   "source": [
    "# this is an open description\n",
    "# there's only a 5% of them, so probably won't be very useful."
   ]
  },
  {
   "cell_type": "code",
   "execution_count": 13,
   "id": "95127fc7",
   "metadata": {},
   "outputs": [
    {
     "data": {
      "text/plain": [
       "description\n",
       "NaN                                                                                                                                                                                                                                                                                                                                                                                                                                                                  132138\n",
       "                                                                                                                                                                                                                                                                                                                                                                                                                                                                         17\n",
       "  Borrower added on 02/12/14 > debt consolidation<br>                                                                                                                                                                                                                                                                                                                                                                                                                     2\n",
       "  Borrower added on 03/11/14 > Debt consolidation<br>                                                                                                                                                                                                                                                                                                                                                                                                                     2\n",
       "  Borrower added on 07/02/13 > Credit card refinance<br>                                                                                                                                                                                                                                                                                                                                                                                                                  2\n",
       "                                                                                                                                                                                                                                                                                                                                                                                                                                                                      ...  \n",
       "  Borrower added on 03/29/13 > Pay off credit card debt faster than i would by making regular payments to them.<br>                                                                                                                                                                                                                                                                                                                                                       1\n",
       "The goal with this loan is to buy  inventory of products of a new brand in the market..  This is a  brand with extra ordinaries health characteristics aimed to  women  between 12 and 50 years old.  The demand is endless,  repetitive;the use of the product is  a must  for the target market , therefore  the opportunity for a good business is here.                                                                                                               1\n",
       "  Borrower added on 11/02/13 > Unsecure debt consolidatio.<br>                                                                                                                                                                                                                                                                                                                                                                                                            1\n",
       "  Borrower added on 02/14/12 > I plan on using this loan to get rid of my credit cart debt and essentially wiping the slate clean there.  I am a good borrower because I do pay all bills on time.  I have never defaulted or gone late.  I keep a strict budget, and I got a new stable job that I plan on staying here for a long time.<br><br>  Borrower added on 02/15/12 > I am also an open book.  I'm willing to answer any questions that anyone has.<br>         1\n",
       "  Borrower added on 08/28/13 > credit card refinancing, consolidate<br>                                                                                                                                                                                                                                                                                                                                                                                                   1\n",
       "Name: count, Length: 7840, dtype: int64"
      ]
     },
     "execution_count": 13,
     "metadata": {},
     "output_type": "execute_result"
    }
   ],
   "source": [
    "cat.description.value_counts(dropna=False)"
   ]
  },
  {
   "cell_type": "code",
   "execution_count": 14,
   "id": "d3bca847",
   "metadata": {},
   "outputs": [
    {
     "data": {
      "text/plain": [
       "employment\n",
       "NaN                                 10260\n",
       "Teacher                              2457\n",
       "Manager                              2186\n",
       "Owner                                1380\n",
       "Registered Nurse                     1006\n",
       "                                    ...  \n",
       "Director Product Development            1\n",
       "Audit Clerk                             1\n",
       "Facilities Support Coordinator          1\n",
       "California Department of Justice        1\n",
       "lead Machine builder                    1\n",
       "Name: count, Length: 54381, dtype: int64"
      ]
     },
     "execution_count": 14,
     "metadata": {},
     "output_type": "execute_result"
    }
   ],
   "source": [
    "# let's see the employment case\n",
    "cat.employment.value_counts(dropna=False)"
   ]
  },
  {
   "cell_type": "code",
   "execution_count": 15,
   "id": "868fb5fc",
   "metadata": {},
   "outputs": [],
   "source": [
    "# this is a relevant information\n",
    "# null likely represents an Unknown job"
   ]
  },
  {
   "cell_type": "code",
   "execution_count": 16,
   "id": "bb0e1021",
   "metadata": {},
   "outputs": [
    {
     "data": {
      "text/plain": [
       "employment_duration\n",
       "10+ years    46181\n",
       "2 years      12492\n",
       "< 1 year     11902\n",
       "3 years      11280\n",
       "1 year        9140\n",
       "NaN           9000\n",
       "5 years       8750\n",
       "4 years       8539\n",
       "6 years       6326\n",
       "7 years       5789\n",
       "8 years       5686\n",
       "9 years       4915\n",
       "Name: count, dtype: int64"
      ]
     },
     "execution_count": 16,
     "metadata": {},
     "output_type": "execute_result"
    }
   ],
   "source": [
    "cat.employment_duration.value_counts(dropna=False)"
   ]
  },
  {
   "cell_type": "code",
   "execution_count": 17,
   "id": "41fa5ebe",
   "metadata": {},
   "outputs": [],
   "source": [
    "# NaN here probably means is Unknown"
   ]
  },
  {
   "cell_type": "markdown",
   "id": "b29c93ae",
   "metadata": {},
   "source": [
    "### Correcting"
   ]
  },
  {
   "cell_type": "code",
   "execution_count": 18,
   "id": "29e7b14e",
   "metadata": {},
   "outputs": [],
   "source": [
    "var_impute_by_Unknown = [\n",
    "    'description',\n",
    "    'employment',\n",
    "    'employment_duration'\n",
    "]"
   ]
  },
  {
   "cell_type": "code",
   "execution_count": 19,
   "id": "045b083c",
   "metadata": {},
   "outputs": [],
   "source": [
    "cat[var_impute_by_Unknown] = cat[var_impute_by_Unknown].fillna('unknown')"
   ]
  },
  {
   "cell_type": "markdown",
   "id": "a8b15878",
   "metadata": {},
   "source": [
    "## Numerics"
   ]
  },
  {
   "cell_type": "markdown",
   "id": "c411fdce",
   "metadata": {},
   "source": [
    "### Nulls"
   ]
  },
  {
   "cell_type": "code",
   "execution_count": 20,
   "id": "5d14d99d",
   "metadata": {},
   "outputs": [
    {
     "data": {
      "text/plain": [
       "months_since_last_delinquency    71812\n",
       "pct_cards_75p                     4677\n",
       "num_mortgages                     3141\n",
       "pct_revolving_utilization          108\n",
       "dti                                100\n",
       "num_cancellations_12months           6\n",
       "num_derogatories                     1\n",
       "num_credit_lines                     1\n",
       "income                               0\n",
       "principal                            0\n",
       "interest_rate                        0\n",
       "installment_amount                   0\n",
       "amount_amortized                     0\n",
       "amount_recovered                     0\n",
       "dtype: int64"
      ]
     },
     "execution_count": 20,
     "metadata": {},
     "output_type": "execute_result"
    }
   ],
   "source": [
    "#nulls\n",
    "\n",
    "num.isna().sum().sort_values(ascending = False)"
   ]
  },
  {
   "cell_type": "code",
   "execution_count": 21,
   "id": "99217093",
   "metadata": {},
   "outputs": [
    {
     "data": {
      "image/png": "[encoded data removed]",
      "text/plain": [
       "<Figure size 1200x600 with 1 Axes>"
      ]
     },
     "metadata": {},
     "output_type": "display_data"
    }
   ],
   "source": [
    "num.months_since_last_delinquency.value_counts().sort_index().plot.bar(figsize = (12,6));"
   ]
  },
  {
   "cell_type": "code",
   "execution_count": 22,
   "id": "55f2d1ab",
   "metadata": {},
   "outputs": [],
   "source": [
    "# probably the nulls are users without any delinquencies\n",
    "\n",
    "# we could impute by a high number like 999\n",
    "# or just by 0, because the 0s are probably just an operative mistake\n"
   ]
  },
  {
   "cell_type": "code",
   "execution_count": 23,
   "id": "fa1e5a75",
   "metadata": {},
   "outputs": [
    {
     "data": {
      "image/png": "[encoded data removed]",
      "text/plain": [
       "<Figure size 1200x600 with 1 Axes>"
      ]
     },
     "metadata": {},
     "output_type": "display_data"
    }
   ],
   "source": [
    "num.pct_cards_75p.value_counts().sort_index().plot.bar(figsize = (12,6));"
   ]
  },
  {
   "cell_type": "code",
   "execution_count": 24,
   "id": "02b862ce",
   "metadata": {},
   "outputs": [],
   "source": [
    "# clearly impute by 0"
   ]
  },
  {
   "cell_type": "code",
   "execution_count": 25,
   "id": "ed32361d",
   "metadata": {},
   "outputs": [
    {
     "data": {
      "image/png": "[encoded data removed]",
      "text/plain": [
       "<Figure size 1200x600 with 1 Axes>"
      ]
     },
     "metadata": {},
     "output_type": "display_data"
    }
   ],
   "source": [
    "num.num_mortgages.value_counts().sort_index().plot.bar(figsize = (12,6));"
   ]
  },
  {
   "cell_type": "code",
   "execution_count": 26,
   "id": "91aa6fca",
   "metadata": {},
   "outputs": [],
   "source": [
    "# another impute by 0"
   ]
  },
  {
   "cell_type": "code",
   "execution_count": 27,
   "id": "649c2c6b",
   "metadata": {},
   "outputs": [],
   "source": [
    "num.fillna(0,inplace=True)"
   ]
  },
  {
   "cell_type": "markdown",
   "id": "a1b70c4d",
   "metadata": {},
   "source": [
    "### Atypicals"
   ]
  },
  {
   "cell_type": "code",
   "execution_count": 28,
   "id": "bfd7c785",
   "metadata": {},
   "outputs": [],
   "source": [
    "num_std = 4"
   ]
  },
  {
   "cell_type": "code",
   "execution_count": 29,
   "id": "578fcb31",
   "metadata": {},
   "outputs": [],
   "source": [
    "def indexes_of_atypicals_by_std(variable, num_std = 4):\n",
    "    \n",
    "    variable = variable.dropna()\n",
    "    mean = np.mean(variable)\n",
    "    sd = np.std(variable)\n",
    "    threshold = sd * num_std\n",
    "    lim_inf = mean - threshold\n",
    "    lim_sup = mean + threshold\n",
    "    # find indexes out of limits\n",
    "    indexes = [index for index,value in variable.items() if value < lim_inf or value > lim_sup]\n",
    "    return(indexes)"
   ]
  },
  {
   "cell_type": "code",
   "execution_count": 30,
   "id": "4c333599",
   "metadata": {},
   "outputs": [],
   "source": [
    "def atypical_count(df,variable, num_std = 4):\n",
    "    atypicals = indexes_of_atypicals_by_std(df[variable], num_std)\n",
    "    return(df.loc[atypicals,variable].value_counts())"
   ]
  },
  {
   "cell_type": "code",
   "execution_count": 31,
   "id": "1ac7fc4c",
   "metadata": {},
   "outputs": [],
   "source": [
    "var_atypicals_dt = ['income',\n",
    "                   'principal',\n",
    "                   'installment_amount',\n",
    "                   'amount_recovered']"
   ]
  },
  {
   "cell_type": "code",
   "execution_count": 32,
   "id": "bfbae34b",
   "metadata": {},
   "outputs": [
    {
     "name": "stdout",
     "output_type": "stream",
     "text": [
      "\n",
      "income:\n",
      "\n",
      "income\n",
      "450,000.00      41\n",
      "500,000.00      36\n",
      "600,000.00      18\n",
      "650,000.00      15\n",
      "550,000.00      14\n",
      "                ..\n",
      "4,680,804.00     1\n",
      "563,000.00       1\n",
      "950,000.00       1\n",
      "941,000.00       1\n",
      "8,500,021.00     1\n",
      "Name: count, Length: 151, dtype: int64\n",
      "\n",
      "principal:\n",
      "\n",
      "Series([], Name: count, dtype: int64)\n",
      "\n",
      "installment_amount:\n",
      "\n",
      "installment_amount\n",
      "1,566.80    2\n",
      "1,714.54    1\n",
      "1,587.02    1\n",
      "Name: count, dtype: int64\n",
      "\n",
      "amount_recovered:\n",
      "\n",
      "amount_recovered\n",
      "4,000.00     5\n",
      "10,000.00    4\n",
      "3,500.00     4\n",
      "6,000.00     4\n",
      "3,600.00     3\n",
      "            ..\n",
      "4,887.05     1\n",
      "5,468.51     1\n",
      "8,873.00     1\n",
      "5,459.01     1\n",
      "10,867.50    1\n",
      "Name: count, Length: 1581, dtype: int64\n"
     ]
    }
   ],
   "source": [
    "for variable in var_atypicals_dt:\n",
    "    print('\\n' + variable + ':\\n')\n",
    "    print(atypical_count(num,variable,num_std))"
   ]
  },
  {
   "cell_type": "code",
   "execution_count": 33,
   "id": "55da2314",
   "metadata": {},
   "outputs": [
    {
     "data": {
      "text/plain": [
       "count      140,000.00\n",
       "mean        78,214.68\n",
       "std         85,517.33\n",
       "min              0.00\n",
       "25%         46,000.00\n",
       "50%         65,000.00\n",
       "75%         93,000.00\n",
       "max     10,999,200.00\n",
       "Name: income, dtype: float64"
      ]
     },
     "execution_count": 33,
     "metadata": {},
     "output_type": "execute_result"
    }
   ],
   "source": [
    "num.income.describe()"
   ]
  },
  {
   "cell_type": "code",
   "execution_count": 34,
   "id": "62fb7a88",
   "metadata": {},
   "outputs": [],
   "source": [
    "# correct: we're going to eliminate income > 300k\n",
    "# we need also to delete them from cat"
   ]
  },
  {
   "cell_type": "code",
   "execution_count": 35,
   "id": "203d8784",
   "metadata": {},
   "outputs": [],
   "source": [
    "to_eliminate = num.loc[num.income > 300000].index.values"
   ]
  },
  {
   "cell_type": "code",
   "execution_count": 36,
   "id": "5d70d865",
   "metadata": {},
   "outputs": [],
   "source": [
    "cat = cat[~cat.index.isin(to_eliminate)]\n",
    "num = num[~num.index.isin(to_eliminate)]"
   ]
  },
  {
   "cell_type": "markdown",
   "id": "c18581d2",
   "metadata": {},
   "source": [
    "### Save Datasets"
   ]
  },
  {
   "cell_type": "code",
   "execution_count": 37,
   "id": "ce97c16c",
   "metadata": {},
   "outputs": [],
   "source": [
    "\n",
    "df.to_pickle('../../02_Data/03_Work/work_result_quality.pickle')\n",
    "cat.to_pickle('../../02_Data/03_Work/cat_result_quality.pickle')\n",
    "num.to_pickle('../../02_Data/03_Work/num_result_quality.pickle')\n",
    "\n"
   ]
  }
 ],
 "metadata": {
  "kernelspec": {
   "display_name": "Python 3 (ipykernel)",
   "language": "python",
   "name": "python3"
  },
  "language_info": {
   "codemirror_mode": {
    "name": "ipython",
    "version": 3
   },
   "file_extension": ".py",
   "mimetype": "text/x-python",
   "name": "python",
   "nbconvert_exporter": "python",
   "pygments_lexer": "ipython3",
   "version": "3.11.11"
  }
 },
 "nbformat": 4,
 "nbformat_minor": 5
}
