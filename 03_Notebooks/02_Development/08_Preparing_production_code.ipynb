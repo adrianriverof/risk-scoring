{
 "cells": [
  {
   "cell_type": "code",
   "execution_count": 1,
   "id": "b7d02e27",
   "metadata": {},
   "outputs": [],
   "source": [
    "import numpy as np\n",
    "import pandas as pd\n",
    "import pickle\n",
    "\n",
    "%config IPCompleter.greedy=True\n",
    "\n",
    "from sklearn.preprocessing import OrdinalEncoder\n",
    "from sklearn.preprocessing import OneHotEncoder\n",
    "from sklearn.preprocessing import Binarizer\n",
    "from sklearn.preprocessing import MinMaxScaler\n",
    "\n",
    "from sklearn.linear_model import LogisticRegression\n",
    "from sklearn.ensemble import HistGradientBoostingRegressor\n",
    "\n",
    "from sklearn.pipeline import Pipeline\n",
    "from sklearn.preprocessing import FunctionTransformer\n",
    "from sklearn.compose import make_column_transformer\n",
    "from sklearn.pipeline import make_pipeline"
   ]
  },
  {
   "cell_type": "code",
   "execution_count": 2,
   "id": "96ad2c93",
   "metadata": {},
   "outputs": [],
   "source": [
    "path = '../../02_Data/01_Originals/loans.csv'\n",
    "\n",
    "df = pd.read_csv(path, index_col = 0)"
   ]
  },
  {
   "cell_type": "code",
   "execution_count": 4,
   "id": "c3a89af3",
   "metadata": {},
   "outputs": [
    {
     "data": {
      "text/plain": [
       "['employment',\n",
       " 'employment_duration',\n",
       " 'income',\n",
       " 'verified_income',\n",
       " 'rating',\n",
       " 'dti',\n",
       " 'housing',\n",
       " 'num_mortgages',\n",
       " 'num_credit_lines',\n",
       " 'pct_cards_75p',\n",
       " 'pct_revolving_utilization',\n",
       " 'num_cancellations_12months',\n",
       " 'num_derogatories',\n",
       " 'months_since_last_delinquency',\n",
       " 'loan_id',\n",
       " 'description',\n",
       " 'purpose',\n",
       " 'principal',\n",
       " 'interest_rate',\n",
       " 'num_installments',\n",
       " 'installment_amount',\n",
       " 'amount_amortized',\n",
       " 'status',\n",
       " 'amount_recovered']"
      ]
     },
     "execution_count": 4,
     "metadata": {},
     "output_type": "execute_result"
    }
   ],
   "source": [
    "df.columns.to_list()"
   ]
  },
  {
   "cell_type": "code",
   "execution_count": 5,
   "id": "069666fb",
   "metadata": {},
   "outputs": [],
   "source": [
    "final_variables = ['verified_income',\n",
    "                  'housing',\n",
    "                  'purpose',\n",
    "                  'num_mortgages',\n",
    "                  'employment_duration',\n",
    "                  'rating',\n",
    "                  'income',\n",
    "                  'dti',\n",
    "                  'num_credit_lines',\n",
    "                  'pct_revolving_utilization',\n",
    "                  'principal',\n",
    "                  'interest_rate',\n",
    "                  'installment_amount',\n",
    "                  'num_installments',\n",
    "                  'status',\n",
    "                  'amount_amortized',\n",
    "                  'amount_recovered']"
   ]
  },
  {
   "cell_type": "markdown",
   "id": "6dbb2a2c",
   "metadata": {},
   "source": [
    "## Structure of the datasets"
   ]
  },
  {
   "cell_type": "code",
   "execution_count": 10,
   "id": "1ca607e7",
   "metadata": {},
   "outputs": [],
   "source": [
    "to_delete = df.loc[df.income > 300000].index.values"
   ]
  },
  {
   "cell_type": "code",
   "execution_count": 12,
   "id": "ed974d43",
   "metadata": {},
   "outputs": [],
   "source": [
    "df = df[~df.index.isin(to_delete)]"
   ]
  },
  {
   "cell_type": "code",
   "execution_count": 13,
   "id": "6192089c",
   "metadata": {},
   "outputs": [],
   "source": [
    "df = df[final_variables]"
   ]
  },
  {
   "cell_type": "markdown",
   "id": "bedccbdb",
   "metadata": {},
   "source": [
    "## Pipeline"
   ]
  },
  {
   "cell_type": "code",
   "execution_count": 15,
   "id": "eee3024c",
   "metadata": {},
   "outputs": [],
   "source": [
    "def data_quality(temp):\n",
    "    temp['employment_duration'] = temp['employment_duration'].fillna('unknown')\n",
    "    \n",
    "    for column in temp.select_dtypes('number').columns:\n",
    "        temp[column] = temp[column].fillna(0)\n",
    "    \n",
    "    return temp"
   ]
  },
  {
   "cell_type": "code",
   "execution_count": 16,
   "id": "8fb17aa6",
   "metadata": {},
   "outputs": [],
   "source": [
    "def variable_creation_pd(df):\n",
    "    \n",
    "    temp = df.copy()\n",
    "    \n",
    "    temp['target_pd'] = np.where(temp.status.isin(['Charged Off','Does not meet the credit policy. Status:Charged Off','Default']), 1, 0)\n",
    "    \n",
    "    temp.housing = temp.housing.replace(['ANY','NONE','OTHER'],'MORTGAGE')\n",
    "    \n",
    "    temp.purpose = temp.purpose.replace(['wedding','educational','renewable_energy'],'other')\n",
    "    \n",
    "\n",
    "    temp.drop(columns = ['status','amount_amortized','amount_recovered'],inplace = True)\n",
    "    \n",
    "    temp_x = temp.iloc[:,:-1]\n",
    "    temp_y = temp.iloc[:,-1]\n",
    "    \n",
    "    return(temp_x,temp_y)"
   ]
  },
  {
   "cell_type": "code",
   "execution_count": 17,
   "id": "a231a8a7",
   "metadata": {},
   "outputs": [],
   "source": [
    "def variable_creation_ead(df):\n",
    "    \n",
    "    temp = df.copy()\n",
    "    \n",
    "    temp['remaining'] = temp.principal - temp.amount_amortized\n",
    "    \n",
    "    temp['target_ead'] = temp.remaining / temp.principal\n",
    "    \n",
    "    temp.housing = temp.housing.replace(['ANY','NONE','OTHER'],'MORTGAGE')\n",
    "    \n",
    "    temp.purpose = temp.purpose.replace(['wedding','educational','renewable_energy'],'other')\n",
    "    \n",
    "    temp.drop(columns = ['status','amount_amortized','amount_recovered','remaining'],inplace = True)\n",
    "    \n",
    "    temp_x = temp.iloc[:,:-1]\n",
    "    temp_y = temp.iloc[:,-1]\n",
    "    \n",
    "    return(temp_x,temp_y)"
   ]
  },
  {
   "cell_type": "code",
   "execution_count": 20,
   "id": "c7019822",
   "metadata": {},
   "outputs": [],
   "source": [
    "def variable_creation_lgd(df):\n",
    "    \n",
    "    temp = df.copy()\n",
    "    \n",
    "    temp['remaining'] = temp.principal - temp.amount_amortized\n",
    "    \n",
    "    temp['target_lgd'] = 1 - (temp.amount_recovered / temp.remaining)\n",
    "    \n",
    "    temp['target_lgd'] = temp['target_lgd'].fillna(0)\n",
    "    \n",
    "    temp.housing = temp.housing.replace(['ANY','NONE','OTHER'],'MORTGAGE')\n",
    "    \n",
    "    temp.purpose = temp.purpose.replace(['wedding','educational','renewable_energy'],'other')\n",
    "    \n",
    "    temp.drop(columns = ['status','amount_amortized','amount_recovered','remaining'],inplace = True)\n",
    "    \n",
    "    temp_x = temp.iloc[:,:-1]\n",
    "    temp_y = temp.iloc[:,-1]\n",
    "    \n",
    "    return(temp_x,temp_y)"
   ]
  },
  {
   "cell_type": "code",
   "execution_count": 21,
   "id": "2a69a6de",
   "metadata": {},
   "outputs": [],
   "source": [
    "x_pd, y_pd = variable_creation_pd(data_quality(df))\n",
    "\n",
    "x_ead, y_ead = variable_creation_ead(data_quality(df))\n",
    "\n",
    "x_lgd, y_lgd = variable_creation_lgd(data_quality(df))"
   ]
  },
  {
   "cell_type": "markdown",
   "id": "780a140e",
   "metadata": {},
   "source": [
    "### Instantiate variable transformation"
   ]
  },
  {
   "cell_type": "code",
   "execution_count": null,
   "id": "be70f0a1",
   "metadata": {},
   "outputs": [],
   "source": []
  },
  {
   "cell_type": "code",
   "execution_count": null,
   "id": "8dc857d4",
   "metadata": {},
   "outputs": [],
   "source": []
  },
  {
   "cell_type": "code",
   "execution_count": null,
   "id": "d7ca42eb",
   "metadata": {},
   "outputs": [],
   "source": []
  },
  {
   "cell_type": "code",
   "execution_count": null,
   "id": "94388588",
   "metadata": {},
   "outputs": [],
   "source": []
  },
  {
   "cell_type": "code",
   "execution_count": null,
   "id": "24c85ea4",
   "metadata": {},
   "outputs": [],
   "source": []
  },
  {
   "cell_type": "code",
   "execution_count": null,
   "id": "7a37d474",
   "metadata": {},
   "outputs": [],
   "source": []
  }
 ],
 "metadata": {
  "kernelspec": {
   "display_name": "Python 3 (ipykernel)",
   "language": "python",
   "name": "python3"
  },
  "language_info": {
   "codemirror_mode": {
    "name": "ipython",
    "version": 3
   },
   "file_extension": ".py",
   "mimetype": "text/x-python",
   "name": "python",
   "nbconvert_exporter": "python",
   "pygments_lexer": "ipython3",
   "version": "3.11.11"
  }
 },
 "nbformat": 4,
 "nbformat_minor": 5
}
