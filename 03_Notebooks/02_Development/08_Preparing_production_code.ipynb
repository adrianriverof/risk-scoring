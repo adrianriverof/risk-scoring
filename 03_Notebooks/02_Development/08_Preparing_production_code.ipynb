{
 "cells": [
  {
   "cell_type": "code",
   "execution_count": 1,
   "id": "b4eec7fa",
   "metadata": {},
   "outputs": [],
   "source": [
    "import numpy as np\n",
    "import pandas as pd\n",
    "import pickle\n",
    "\n",
    "%config IPCompleter.greedy=True\n",
    "\n",
    "from sklearn.preprocessing import OrdinalEncoder\n",
    "from sklearn.preprocessing import OneHotEncoder\n",
    "from sklearn.preprocessing import Binarizer\n",
    "from sklearn.preprocessing import MinMaxScaler\n",
    "\n",
    "from sklearn.linear_model import LogisticRegression\n",
    "from sklearn.ensemble import HistGradientBoostingRegressor\n",
    "\n",
    "from sklearn.pipeline import Pipeline\n",
    "from sklearn.preprocessing import FunctionTransformer\n",
    "from sklearn.compose import make_column_transformer\n",
    "from sklearn.pipeline import make_pipeline"
   ]
  },
  {
   "cell_type": "code",
   "execution_count": 2,
   "id": "4df3a666",
   "metadata": {},
   "outputs": [],
   "source": [
    "path = '../../02_Data/01_Originals/loans.csv'\n",
    "\n",
    "df = pd.read_csv(path, index_col = 0)"
   ]
  },
  {
   "cell_type": "code",
   "execution_count": 3,
   "id": "cb64b548",
   "metadata": {
    "collapsed": true
   },
   "outputs": [
    {
     "data": {
      "text/plain": [
       "['employment',\n",
       " 'employment_duration',\n",
       " 'income',\n",
       " 'verified_income',\n",
       " 'rating',\n",
       " 'dti',\n",
       " 'housing',\n",
       " 'num_mortgages',\n",
       " 'num_credit_lines',\n",
       " 'pct_cards_75p',\n",
       " 'pct_revolving_utilization',\n",
       " 'num_cancellations_12months',\n",
       " 'num_derogatories',\n",
       " 'months_since_last_delinquency',\n",
       " 'loan_id',\n",
       " 'description',\n",
       " 'purpose',\n",
       " 'principal',\n",
       " 'interest_rate',\n",
       " 'num_installments',\n",
       " 'installment_amount',\n",
       " 'amount_amortized',\n",
       " 'status',\n",
       " 'amount_recovered']"
      ]
     },
     "execution_count": 3,
     "metadata": {},
     "output_type": "execute_result"
    }
   ],
   "source": [
    "df.columns.to_list()"
   ]
  },
  {
   "cell_type": "code",
   "execution_count": 4,
   "id": "8d6a7b7a",
   "metadata": {},
   "outputs": [],
   "source": [
    "final_variables = ['verified_income',\n",
    "                  'housing',\n",
    "                  'purpose',\n",
    "                  'num_installments',\n",
    "                  'employment_duration',\n",
    "                  'rating',\n",
    "                  'income',\n",
    "                  'dti',\n",
    "                  'num_credit_lines',\n",
    "                  'pct_revolving_utilization',\n",
    "                  'principal',\n",
    "                  'interest_rate',\n",
    "                  'installment_amount',\n",
    "                  'num_derogatories',\n",
    "                  'status',\n",
    "                  'amount_amortized',\n",
    "                  'amount_recovered']"
   ]
  },
  {
   "cell_type": "markdown",
   "id": "004335f4",
   "metadata": {},
   "source": [
    "## Structure of the datasets"
   ]
  },
  {
   "cell_type": "code",
   "execution_count": 5,
   "id": "9ccd2393",
   "metadata": {},
   "outputs": [],
   "source": [
    "to_delete = df.loc[df.income > 300000].index.values"
   ]
  },
  {
   "cell_type": "code",
   "execution_count": 6,
   "id": "116c4516",
   "metadata": {},
   "outputs": [],
   "source": [
    "df = df[~df.index.isin(to_delete)]"
   ]
  },
  {
   "cell_type": "code",
   "execution_count": 7,
   "id": "bc652628",
   "metadata": {},
   "outputs": [],
   "source": [
    "df = df[final_variables]"
   ]
  },
  {
   "cell_type": "markdown",
   "id": "c0f3dc05",
   "metadata": {},
   "source": [
    "## Pipeline"
   ]
  },
  {
   "cell_type": "code",
   "execution_count": 8,
   "id": "65a9053b",
   "metadata": {},
   "outputs": [],
   "source": [
    "def data_quality(temp):\n",
    "    temp['employment_duration'] = temp['employment_duration'].fillna('unknown')\n",
    "    \n",
    "    for column in temp.select_dtypes('number').columns:\n",
    "        temp[column] = temp[column].fillna(0)\n",
    "    \n",
    "    return temp"
   ]
  },
  {
   "cell_type": "code",
   "execution_count": 9,
   "id": "b6c89016",
   "metadata": {},
   "outputs": [],
   "source": [
    "def variable_creation_pd(df):\n",
    "    \n",
    "    temp = df.copy()\n",
    "    \n",
    "    temp['target_pd'] = np.where(temp.status.isin(['Charged Off','Does not meet the credit policy. Status:Charged Off','Default']), 1, 0)\n",
    "    \n",
    "    temp.housing = temp.housing.replace(['ANY','NONE','OTHER'],'MORTGAGE')\n",
    "    \n",
    "    temp.purpose = temp.purpose.replace(['wedding','educational','renewable_energy'],'other')\n",
    "    \n",
    "\n",
    "    temp.drop(columns = ['status','amount_amortized','amount_recovered'],inplace = True)\n",
    "    \n",
    "    temp_x = temp.iloc[:,:-1]\n",
    "    temp_y = temp.iloc[:,-1]\n",
    "    \n",
    "    return(temp_x,temp_y)"
   ]
  },
  {
   "cell_type": "code",
   "execution_count": 10,
   "id": "700310e9",
   "metadata": {},
   "outputs": [],
   "source": [
    "def variable_creation_ead(df):\n",
    "    \n",
    "    temp = df.copy()\n",
    "    \n",
    "    temp['remaining'] = temp.principal - temp.amount_amortized\n",
    "    \n",
    "    temp['target_ead'] = temp.remaining / temp.principal\n",
    "    \n",
    "    temp.housing = temp.housing.replace(['ANY','NONE','OTHER'],'MORTGAGE')\n",
    "    \n",
    "    temp.purpose = temp.purpose.replace(['wedding','educational','renewable_energy'],'other')\n",
    "    \n",
    "    temp.drop(columns = ['status','amount_amortized','amount_recovered','remaining'],inplace = True)\n",
    "    \n",
    "    temp_x = temp.iloc[:,:-1]\n",
    "    temp_y = temp.iloc[:,-1]\n",
    "    \n",
    "    return(temp_x,temp_y)"
   ]
  },
  {
   "cell_type": "code",
   "execution_count": 11,
   "id": "498831f8",
   "metadata": {},
   "outputs": [],
   "source": [
    "def variable_creation_lgd(df):\n",
    "    \n",
    "    temp = df.copy()\n",
    "    \n",
    "    temp['remaining'] = temp.principal - temp.amount_amortized\n",
    "    \n",
    "    temp['target_lgd'] = 1 - (temp.amount_recovered / temp.remaining)\n",
    "    \n",
    "    temp['target_lgd'] = temp['target_lgd'].fillna(0)\n",
    "    \n",
    "    temp.housing = temp.housing.replace(['ANY','NONE','OTHER'],'MORTGAGE')\n",
    "    \n",
    "    temp.purpose = temp.purpose.replace(['wedding','educational','renewable_energy'],'other')\n",
    "    \n",
    "    temp.drop(columns = ['status','amount_amortized','amount_recovered','remaining'],inplace = True)\n",
    "    \n",
    "    temp_x = temp.iloc[:,:-1]\n",
    "    temp_y = temp.iloc[:,-1]\n",
    "    \n",
    "    return(temp_x,temp_y)"
   ]
  },
  {
   "cell_type": "code",
   "execution_count": 12,
   "id": "0756747a",
   "metadata": {},
   "outputs": [],
   "source": [
    "x_pd, y_pd = variable_creation_pd(data_quality(df))\n",
    "\n",
    "x_ead, y_ead = variable_creation_ead(data_quality(df))\n",
    "\n",
    "x_lgd, y_lgd = variable_creation_lgd(data_quality(df))"
   ]
  },
  {
   "cell_type": "markdown",
   "id": "ba74b208",
   "metadata": {},
   "source": [
    "### Instantiate variable transformation"
   ]
  },
  {
   "cell_type": "code",
   "execution_count": 13,
   "id": "9eb2f0db",
   "metadata": {},
   "outputs": [],
   "source": [
    "#ONE HOT ENCODING\n",
    "var_ohe = [ 'verified_income', 'housing','purpose','num_installments']\n",
    "ohe = OneHotEncoder(sparse_output = False, handle_unknown='ignore')\n",
    "\n",
    "\n",
    "#ORDINAL ENCODING\n",
    "var_oe = ['employment_duration','rating']\n",
    "\n",
    "order_emp_dur = ['unknown','< 1 year','1 year','2 years','3 years','4 years',\n",
    "                           '5 years','6 years','7 years','8 years','9 years','10+ years']\n",
    "\n",
    "order_rating = ['A','B','C','D','E','F','G']\n",
    "\n",
    "oe = OrdinalEncoder(categories = [order_emp_dur,order_rating],\n",
    "                    handle_unknown = 'use_encoded_value',\n",
    "                    unknown_value = 12)\n",
    "\n",
    "#BINNING\n",
    "var_bin = ['num_derogatories']\n",
    "bina = Binarizer(threshold=0)\n",
    "\n",
    "\n",
    "#MIN-MAX SCALING\n",
    "var_mms = ['income','dti','num_credit_lines','pct_revolving_utilization',\n",
    "            'principal','interest_rate','installment_amount']\n",
    "mms = MinMaxScaler()\n"
   ]
  },
  {
   "cell_type": "code",
   "execution_count": 14,
   "id": "8b19118a",
   "metadata": {},
   "outputs": [],
   "source": [
    "# create pipe\n",
    "\n",
    "ct = make_column_transformer(\n",
    "    (ohe, var_ohe),\n",
    "    (oe, var_oe),\n",
    "    (bina, var_bin),\n",
    "    (mms, var_mms),\n",
    "    remainder='passthrough')"
   ]
  },
  {
   "cell_type": "code",
   "execution_count": 15,
   "id": "22f8be22",
   "metadata": {},
   "outputs": [],
   "source": [
    "# instantiate models\n",
    "\n",
    "model_pd = LogisticRegression(solver = 'saga', n_jobs=-1, C = 0.25, penalty = 'l1')\n",
    "\n",
    "model_ead = HistGradientBoostingRegressor(learning_rate = 0.1,\n",
    "                                          max_iter = 200,\n",
    "                                          max_depth = 10,\n",
    "                                          min_samples_leaf = 100,\n",
    "                                          scoring = 'neg_mean_absolute_percentage_error',\n",
    "                                          l2_regularization = 0.75)\n",
    "\n",
    "model_lgd = HistGradientBoostingRegressor(learning_rate = 0.1,\n",
    "                                          max_iter = 200,\n",
    "                                          max_depth = 20,\n",
    "                                          min_samples_leaf = 100,\n",
    "                                          scoring = 'neg_mean_absolute_percentage_error',\n",
    "                                          l2_regularization = 0)"
   ]
  },
  {
   "cell_type": "code",
   "execution_count": 16,
   "id": "ae6f58f3",
   "metadata": {},
   "outputs": [],
   "source": [
    "# training pipes\n",
    "\n",
    "pipe_training_pd = make_pipeline(ct,model_pd)\n",
    "pipe_training_ead = make_pipeline(ct,model_ead)\n",
    "pipe_training_lgd = make_pipeline(ct,model_lgd)\n"
   ]
  },
  {
   "cell_type": "code",
   "execution_count": 17,
   "id": "bb44f7ca",
   "metadata": {},
   "outputs": [],
   "source": [
    "# SAVE the pipes\n",
    "\n",
    "\n",
    "pipe_training_pd_path  = '../../04_Models/pipe_training_pd.pickle'\n",
    "pipe_training_ead_path = '../../04_Models/pipe_training_ead.pickle'\n",
    "pipe_training_lgd_path = '../../04_Models/pipe_training_lgd.pickle'\n",
    "\n",
    "with open(pipe_training_pd_path, mode='wb') as file:\n",
    "   pickle.dump(pipe_training_pd, file)\n",
    "with open(pipe_training_ead_path, mode='wb') as file:\n",
    "   pickle.dump(pipe_training_ead, file)\n",
    "with open(pipe_training_lgd_path, mode='wb') as file:\n",
    "   pickle.dump(pipe_training_lgd, file)\n",
    "\n"
   ]
  },
  {
   "cell_type": "markdown",
   "id": "d50697d1",
   "metadata": {},
   "source": [
    "### Train the pipes"
   ]
  },
  {
   "cell_type": "code",
   "execution_count": 18,
   "id": "7af87636",
   "metadata": {
    "scrolled": false
   },
   "outputs": [],
   "source": [
    "pipe_execution_pd  = pipe_training_pd.fit(x_pd,y_pd)\n",
    "pipe_execution_ead = pipe_training_ead.fit(x_ead,y_ead)\n",
    "pipe_execution_lgd = pipe_training_lgd.fit(x_lgd,y_lgd)"
   ]
  },
  {
   "cell_type": "markdown",
   "id": "53511f3b",
   "metadata": {},
   "source": [
    "## Save the pipe"
   ]
  },
  {
   "cell_type": "code",
   "execution_count": 19,
   "id": "c5d63b0a",
   "metadata": {},
   "outputs": [],
   "source": [
    "path_pipe_execution_pd  = '../../04_Models/pipe_execution_pd.pickle'\n",
    "path_pipe_execution_ead = '../../04_Models/pipe_execution_ead.pickle'\n",
    "path_pipe_execution_lgd = '../../04_Models/pipe_execution_lgd.pickle'\n",
    "\n",
    "\n",
    "with open(path_pipe_execution_pd, mode='wb') as file:\n",
    "   pickle.dump(pipe_execution_pd, file)\n",
    "\n",
    "with open(path_pipe_execution_ead, mode='wb') as file:\n",
    "   pickle.dump(pipe_execution_ead, file)\n",
    "\n",
    "with open(path_pipe_execution_lgd, mode='wb') as file:\n",
    "   pickle.dump(pipe_execution_lgd, file)"
   ]
  }
 ],
 "metadata": {
  "kernelspec": {
   "display_name": "Python 3 (ipykernel)",
   "language": "python",
   "name": "python3"
  },
  "language_info": {
   "codemirror_mode": {
    "name": "ipython",
    "version": 3
   },
   "file_extension": ".py",
   "mimetype": "text/x-python",
   "name": "python",
   "nbconvert_exporter": "python",
   "pygments_lexer": "ipython3",
   "version": "3.11.11"
  }
 },
 "nbformat": 4,
 "nbformat_minor": 5
}
