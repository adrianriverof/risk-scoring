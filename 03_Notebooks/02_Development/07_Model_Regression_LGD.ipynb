{
 "cells": [
  {
   "cell_type": "markdown",
   "id": "7cc62ab1",
   "metadata": {},
   "source": [
    "# Model Regression for Loss Given Default "
   ]
  },
  {
   "cell_type": "code",
   "execution_count": 1,
   "id": "921ac02f",
   "metadata": {},
   "outputs": [],
   "source": [
    "import numpy as np\n",
    "import pandas as pd\n",
    "import matplotlib.pyplot as plt\n",
    "%matplotlib inline\n",
    "\n",
    "from sklearn.model_selection import train_test_split\n",
    "\n",
    "from sklearn.linear_model import Ridge\n",
    "from sklearn.linear_model import Lasso\n",
    "from sklearn.ensemble import HistGradientBoostingRegressor\n",
    "\n",
    "from sklearn.pipeline import Pipeline\n",
    "\n",
    "from sklearn.model_selection import GridSearchCV\n",
    "\n",
    "from sklearn.metrics import mean_absolute_error\n",
    "\n",
    "%config IPCompleter.greedy=True\n",
    "\n",
    "pd.options.display.float_format = '{:.2f}'.format\n",
    "\n",
    "import warnings\n",
    "warnings.filterwarnings(\"ignore\")"
   ]
  },
  {
   "cell_type": "code",
   "execution_count": 2,
   "id": "12b582e6",
   "metadata": {},
   "outputs": [],
   "source": [
    "\n",
    "df = pd.read_pickle('../../02_Data/03_Work/df_board_lgd.pickle')\n"
   ]
  },
  {
   "cell_type": "code",
   "execution_count": 3,
   "id": "495ec847",
   "metadata": {},
   "outputs": [],
   "source": [
    "x = df.drop(columns='target_lgd')\n",
    "y = df.target_lgd"
   ]
  },
  {
   "cell_type": "markdown",
   "id": "6f48ad3a",
   "metadata": {},
   "source": [
    "## MODEL"
   ]
  },
  {
   "cell_type": "code",
   "execution_count": 4,
   "id": "ec063641",
   "metadata": {},
   "outputs": [],
   "source": [
    "\n",
    "train_x,val_x,train_y,val_y = train_test_split(x,y,test_size=0.3)\n"
   ]
  },
  {
   "cell_type": "code",
   "execution_count": 5,
   "id": "3b5140ed",
   "metadata": {},
   "outputs": [],
   "source": [
    "pipe = Pipeline([('algorithm',Ridge())])\n",
    "\n",
    "grid = [      \n",
    "        {'algorithm': [Ridge()],\n",
    "         'algorithm__alpha': list(np.arange(0.1,1.1,0.1))},\n",
    "        \n",
    "        {'algorithm': [Lasso()],\n",
    "         'algorithm__alpha': list(np.arange(0.1,1.1,0.1))},\n",
    "    \n",
    "        {'algorithm': [HistGradientBoostingRegressor(min_samples_leaf = 100, scoring = 'neg_mean_absolute_percentage_error')],\n",
    "         'algorithm__learning_rate': [0.01,0.025,0.05,0.1],\n",
    "         'algorithm__max_iter': [50,100,200],\n",
    "         'algorithm__max_depth': [5,10,20],\n",
    "         'algorithm__l2_regularization': [0,0.25,0.5,0.75,1]}\n",
    "       ]"
   ]
  },
  {
   "cell_type": "markdown",
   "id": "9a199994",
   "metadata": {},
   "source": [
    "#### Optimize hyperparameters"
   ]
  },
  {
   "cell_type": "code",
   "execution_count": null,
   "id": "10559f89",
   "metadata": {},
   "outputs": [],
   "source": [
    "grid_search = GridSearchCV(estimator= pipe, \n",
    "                           param_grid = grid, \n",
    "                           cv = 3, \n",
    "                           scoring = 'neg_mean_absolute_error',\n",
    "                           verbose = 0,\n",
    "                           n_jobs = -1)\n",
    "\n",
    "model = grid_search.fit(train_x,train_y)"
   ]
  },
  {
   "cell_type": "code",
   "execution_count": null,
   "id": "8246458e",
   "metadata": {},
   "outputs": [],
   "source": [
    "# since it's very polarized, the model makes a lot of error\n",
    "# the model makes a regression towards the mean\n",
    "# this makes the model be \"good\" overall, but fails a lot when looking at specific cases\n",
    "\n"
   ]
  },
  {
   "cell_type": "code",
   "execution_count": null,
   "id": "b656f408",
   "metadata": {},
   "outputs": [],
   "source": [
    "output = pd.DataFrame(grid_search.cv_results_).sort_values(by = 'rank_test_score').reset_index(drop=True).head(10)\n",
    "output"
   ]
  },
  {
   "cell_type": "code",
   "execution_count": null,
   "id": "1cf782e6",
   "metadata": {},
   "outputs": [],
   "source": [
    "model_lgd = HistGradientBoostingRegressor(learning_rate = 0.1,\n",
    "                                          max_iter = 200,\n",
    "                                          max_depth = 20,\n",
    "                                          min_samples_leaf = 100,\n",
    "                                          scoring = 'neg_mean_absolute_percentage_error',\n",
    "                                          l2_regularization = 0.25)\n",
    "model_lgd.fit(train_x,train_y)"
   ]
  },
  {
   "cell_type": "markdown",
   "id": "8ee0d8bf",
   "metadata": {},
   "source": [
    "### Evaluate"
   ]
  },
  {
   "cell_type": "code",
   "execution_count": null,
   "id": "b9356b30",
   "metadata": {},
   "outputs": [],
   "source": [
    "pred = model_lgd.predict(val_x)\n",
    "\n",
    "pred = np.where(pred < 0, 0, pred)\n",
    "pred = np.where(pred > 1, 1, pred)"
   ]
  },
  {
   "cell_type": "code",
   "execution_count": null,
   "id": "1b3de6fc",
   "metadata": {},
   "outputs": [],
   "source": [
    "mean_absolute_error(val_y, pred)"
   ]
  },
  {
   "cell_type": "markdown",
   "id": "52ba7ddf",
   "metadata": {},
   "source": [
    "### Report"
   ]
  },
  {
   "cell_type": "code",
   "execution_count": null,
   "id": "17831278",
   "metadata": {},
   "outputs": [],
   "source": [
    "check_validation = pd.DataFrame({'lgd_real':val_y, 'lgd_pred':pred})\n",
    "check_validation"
   ]
  },
  {
   "cell_type": "code",
   "execution_count": null,
   "id": "f3555b8f",
   "metadata": {},
   "outputs": [],
   "source": [
    "check_validation.corr()"
   ]
  },
  {
   "cell_type": "code",
   "execution_count": null,
   "id": "e24eff50",
   "metadata": {},
   "outputs": [],
   "source": [
    "check_validation.plot.scatter(x='lgd_real',y='lgd_pred');"
   ]
  },
  {
   "cell_type": "code",
   "execution_count": null,
   "id": "b4cdec30",
   "metadata": {},
   "outputs": [],
   "source": [
    "check_validation.plot.hist(bins = 100,figsize = (10,6), alpha = 0.3);"
   ]
  }
 ],
 "metadata": {
  "kernelspec": {
   "display_name": "Python 3 (ipykernel)",
   "language": "python",
   "name": "python3"
  },
  "language_info": {
   "codemirror_mode": {
    "name": "ipython",
    "version": 3
   },
   "file_extension": ".py",
   "mimetype": "text/x-python",
   "name": "python",
   "nbconvert_exporter": "python",
   "pygments_lexer": "ipython3",
   "version": "3.11.11"
  },
  "toc": {
   "base_numbering": 1,
   "nav_menu": {},
   "number_sections": true,
   "sideBar": true,
   "skip_h1_title": false,
   "title_cell": "Table of Contents",
   "title_sidebar": "Contents",
   "toc_cell": false,
   "toc_position": {},
   "toc_section_display": true,
   "toc_window_display": false
  },
  "varInspector": {
   "cols": {
    "lenName": 16,
    "lenType": 16,
    "lenVar": 40
   },
   "kernels_config": {
    "python": {
     "delete_cmd_postfix": "",
     "delete_cmd_prefix": "del ",
     "library": "var_list.py",
     "varRefreshCmd": "print(var_dic_list())"
    },
    "r": {
     "delete_cmd_postfix": ") ",
     "delete_cmd_prefix": "rm(",
     "library": "var_list.r",
     "varRefreshCmd": "cat(var_dic_list()) "
    }
   },
   "types_to_exclude": [
    "module",
    "function",
    "builtin_function_or_method",
    "instance",
    "_Feature"
   ],
   "window_display": false
  }
 },
 "nbformat": 4,
 "nbformat_minor": 5
}
