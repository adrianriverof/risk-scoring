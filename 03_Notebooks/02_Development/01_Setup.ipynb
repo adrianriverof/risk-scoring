{
 "cells": [
  {
   "cell_type": "markdown",
   "id": "fe51446a",
   "metadata": {},
   "source": [
    "# Setup"
   ]
  },
  {
   "cell_type": "markdown",
   "id": "d3a9a514",
   "metadata": {},
   "source": [
    "## Create environment"
   ]
  },
  {
   "cell_type": "markdown",
   "id": "986a2df2",
   "metadata": {},
   "source": [
    "```\n",
    "conda create --name risks -c conda-forge python=3.11.11 numpy pandas matplotlib seaborn scikit-learn=1.3.1 scipy=1.9.3 sqlalchemy xgboost=2.0.3\n",
    "```"
   ]
  },
  {
   "cell_type": "markdown",
   "id": "2b8932f6",
   "metadata": {},
   "source": [
    "Then activate the environment with ```conda activate risks```"
   ]
  },
  {
   "cell_type": "markdown",
   "id": "813adf3b",
   "metadata": {},
   "source": [
    "Then install the other channels packages\n",
    "\n",
    "```\n",
    "conda install -c conda-forge pyjanitor scikit-plot yellowbrick imbalanced-learn cloudpickle\n",
    "\n",
    "conda install -c districtdatalabs yellowbrick\n",
    "\n",
    "conda install -c conda-forge streamlit\n",
    "\n",
    "pip install notebook==5.7.8 jupyter_client jupyter_contrib_nbextensions category_encoders==2.6.2\n",
    "\n",
    "pip install streamlit-echarts\n",
    "\n",
    "pip install pipreqs\n",
    "```"
   ]
  },
  {
   "cell_type": "markdown",
   "id": "17d2be4f",
   "metadata": {},
   "source": [
    "Then export the yml\n",
    "\n",
    "```\n",
    "conda env export > risks.yml\n",
    "```"
   ]
  },
  {
   "cell_type": "markdown",
   "id": "b46724ea",
   "metadata": {},
   "source": [
    "To load from the yml: ```conda env create -f environment.yml```"
   ]
  },
  {
   "cell_type": "markdown",
   "id": "cf03ee19",
   "metadata": {},
   "source": [
    "## Import packages"
   ]
  },
  {
   "cell_type": "code",
   "execution_count": 2,
   "id": "3b7f76a9",
   "metadata": {},
   "outputs": [],
   "source": [
    "import os \n",
    "import numpy as np\n",
    "import pandas as pd\n",
    "%config IPCompleter.greedy=True"
   ]
  },
  {
   "cell_type": "markdown",
   "id": "545c20e4",
   "metadata": {},
   "source": [
    "## Create initial datasets"
   ]
  },
  {
   "cell_type": "code",
   "execution_count": 13,
   "id": "bafeef43",
   "metadata": {},
   "outputs": [],
   "source": [
    "data = pd.read_csv('../../02_Data/01_Originals/loans.csv')"
   ]
  },
  {
   "cell_type": "code",
   "execution_count": 14,
   "id": "f89b756a",
   "metadata": {},
   "outputs": [
    {
     "data": {
      "text/html": [
       "<div>\n",
       "<style scoped>\n",
       "    .dataframe tbody tr th:only-of-type {\n",
       "        vertical-align: middle;\n",
       "    }\n",
       "\n",
       "    .dataframe tbody tr th {\n",
       "        vertical-align: top;\n",
       "    }\n",
       "\n",
       "    .dataframe thead th {\n",
       "        text-align: right;\n",
       "    }\n",
       "</style>\n",
       "<table border=\"1\" class=\"dataframe\">\n",
       "  <thead>\n",
       "    <tr style=\"text-align: right;\">\n",
       "      <th></th>\n",
       "      <th>client_id</th>\n",
       "      <th>employment</th>\n",
       "      <th>employment_duration</th>\n",
       "      <th>income</th>\n",
       "      <th>verified_income</th>\n",
       "      <th>rating</th>\n",
       "      <th>dti</th>\n",
       "      <th>housing</th>\n",
       "      <th>num_mortgages</th>\n",
       "      <th>num_credit_lines</th>\n",
       "      <th>...</th>\n",
       "      <th>loan_id</th>\n",
       "      <th>description</th>\n",
       "      <th>purpose</th>\n",
       "      <th>principal</th>\n",
       "      <th>interest_rate</th>\n",
       "      <th>num_installments</th>\n",
       "      <th>installment_amount</th>\n",
       "      <th>amount_amortized</th>\n",
       "      <th>status</th>\n",
       "      <th>amount_recovered</th>\n",
       "    </tr>\n",
       "  </thead>\n",
       "  <tbody>\n",
       "    <tr>\n",
       "      <th>0</th>\n",
       "      <td>137387967</td>\n",
       "      <td>Hvac technician</td>\n",
       "      <td>3 years</td>\n",
       "      <td>54000.0</td>\n",
       "      <td>Source Verified</td>\n",
       "      <td>A</td>\n",
       "      <td>19.31</td>\n",
       "      <td>MORTGAGE</td>\n",
       "      <td>2.0</td>\n",
       "      <td>10.0</td>\n",
       "      <td>...</td>\n",
       "      <td>NaN</td>\n",
       "      <td>NaN</td>\n",
       "      <td>debt_consolidation</td>\n",
       "      <td>15000.0</td>\n",
       "      <td>7.21</td>\n",
       "      <td>36 months</td>\n",
       "      <td>464.60</td>\n",
       "      <td>2669.06</td>\n",
       "      <td>Current</td>\n",
       "      <td>0.0</td>\n",
       "    </tr>\n",
       "    <tr>\n",
       "      <th>1</th>\n",
       "      <td>4798121</td>\n",
       "      <td>Target Promotions and Marketing,Inc</td>\n",
       "      <td>10+ years</td>\n",
       "      <td>65000.0</td>\n",
       "      <td>Not Verified</td>\n",
       "      <td>D</td>\n",
       "      <td>25.40</td>\n",
       "      <td>RENT</td>\n",
       "      <td>1.0</td>\n",
       "      <td>15.0</td>\n",
       "      <td>...</td>\n",
       "      <td>NaN</td>\n",
       "      <td>NaN</td>\n",
       "      <td>debt_consolidation</td>\n",
       "      <td>10000.0</td>\n",
       "      <td>17.77</td>\n",
       "      <td>36 months</td>\n",
       "      <td>360.38</td>\n",
       "      <td>6362.96</td>\n",
       "      <td>Charged Off</td>\n",
       "      <td>0.0</td>\n",
       "    </tr>\n",
       "    <tr>\n",
       "      <th>2</th>\n",
       "      <td>46641215</td>\n",
       "      <td>Banker</td>\n",
       "      <td>5 years</td>\n",
       "      <td>135000.0</td>\n",
       "      <td>Verified</td>\n",
       "      <td>A</td>\n",
       "      <td>14.68</td>\n",
       "      <td>RENT</td>\n",
       "      <td>0.0</td>\n",
       "      <td>19.0</td>\n",
       "      <td>...</td>\n",
       "      <td>NaN</td>\n",
       "      <td>NaN</td>\n",
       "      <td>debt_consolidation</td>\n",
       "      <td>24000.0</td>\n",
       "      <td>6.39</td>\n",
       "      <td>36 months</td>\n",
       "      <td>734.38</td>\n",
       "      <td>24000.00</td>\n",
       "      <td>Fully Paid</td>\n",
       "      <td>0.0</td>\n",
       "    </tr>\n",
       "    <tr>\n",
       "      <th>3</th>\n",
       "      <td>87998444</td>\n",
       "      <td>executive director</td>\n",
       "      <td>9 years</td>\n",
       "      <td>188000.0</td>\n",
       "      <td>Source Verified</td>\n",
       "      <td>B</td>\n",
       "      <td>11.69</td>\n",
       "      <td>MORTGAGE</td>\n",
       "      <td>3.0</td>\n",
       "      <td>15.0</td>\n",
       "      <td>...</td>\n",
       "      <td>NaN</td>\n",
       "      <td>NaN</td>\n",
       "      <td>credit_card</td>\n",
       "      <td>27000.0</td>\n",
       "      <td>8.99</td>\n",
       "      <td>60 months</td>\n",
       "      <td>560.35</td>\n",
       "      <td>12443.00</td>\n",
       "      <td>Current</td>\n",
       "      <td>0.0</td>\n",
       "    </tr>\n",
       "    <tr>\n",
       "      <th>4</th>\n",
       "      <td>132883631</td>\n",
       "      <td>Subsea Technician</td>\n",
       "      <td>7 years</td>\n",
       "      <td>125000.0</td>\n",
       "      <td>Source Verified</td>\n",
       "      <td>B</td>\n",
       "      <td>9.00</td>\n",
       "      <td>MORTGAGE</td>\n",
       "      <td>1.0</td>\n",
       "      <td>6.0</td>\n",
       "      <td>...</td>\n",
       "      <td>NaN</td>\n",
       "      <td>NaN</td>\n",
       "      <td>debt_consolidation</td>\n",
       "      <td>22000.0</td>\n",
       "      <td>10.90</td>\n",
       "      <td>36 months</td>\n",
       "      <td>719.22</td>\n",
       "      <td>22000.00</td>\n",
       "      <td>Fully Paid</td>\n",
       "      <td>0.0</td>\n",
       "    </tr>\n",
       "  </tbody>\n",
       "</table>\n",
       "<p>5 rows × 25 columns</p>\n",
       "</div>"
      ],
      "text/plain": [
       "   client_id                           employment employment_duration  \\\n",
       "0  137387967                     Hvac technician              3 years   \n",
       "1    4798121  Target Promotions and Marketing,Inc           10+ years   \n",
       "2   46641215                               Banker             5 years   \n",
       "3   87998444                   executive director             9 years   \n",
       "4  132883631                    Subsea Technician             7 years   \n",
       "\n",
       "     income  verified_income rating    dti   housing  num_mortgages  \\\n",
       "0   54000.0  Source Verified      A  19.31  MORTGAGE            2.0   \n",
       "1   65000.0     Not Verified      D  25.40      RENT            1.0   \n",
       "2  135000.0         Verified      A  14.68      RENT            0.0   \n",
       "3  188000.0  Source Verified      B  11.69  MORTGAGE            3.0   \n",
       "4  125000.0  Source Verified      B   9.00  MORTGAGE            1.0   \n",
       "\n",
       "   num_credit_lines  ...  loan_id  description             purpose  principal  \\\n",
       "0              10.0  ...      NaN          NaN  debt_consolidation    15000.0   \n",
       "1              15.0  ...      NaN          NaN  debt_consolidation    10000.0   \n",
       "2              19.0  ...      NaN          NaN  debt_consolidation    24000.0   \n",
       "3              15.0  ...      NaN          NaN         credit_card    27000.0   \n",
       "4               6.0  ...      NaN          NaN  debt_consolidation    22000.0   \n",
       "\n",
       "   interest_rate  num_installments installment_amount amount_amortized  \\\n",
       "0           7.21         36 months             464.60          2669.06   \n",
       "1          17.77         36 months             360.38          6362.96   \n",
       "2           6.39         36 months             734.38         24000.00   \n",
       "3           8.99         60 months             560.35         12443.00   \n",
       "4          10.90         36 months             719.22         22000.00   \n",
       "\n",
       "        status  amount_recovered  \n",
       "0      Current               0.0  \n",
       "1  Charged Off               0.0  \n",
       "2   Fully Paid               0.0  \n",
       "3      Current               0.0  \n",
       "4   Fully Paid               0.0  \n",
       "\n",
       "[5 rows x 25 columns]"
      ]
     },
     "execution_count": 14,
     "metadata": {},
     "output_type": "execute_result"
    }
   ],
   "source": [
    "data.head()"
   ]
  },
  {
   "cell_type": "code",
   "execution_count": 15,
   "id": "cc492a23",
   "metadata": {},
   "outputs": [
    {
     "data": {
      "text/plain": [
       "(200000, 25)"
      ]
     },
     "execution_count": 15,
     "metadata": {},
     "output_type": "execute_result"
    }
   ],
   "source": [
    "data.shape"
   ]
  },
  {
   "cell_type": "markdown",
   "id": "02cc44f7",
   "metadata": {},
   "source": [
    "### Validation dataset"
   ]
  },
  {
   "cell_type": "code",
   "execution_count": 45,
   "id": "c5346001",
   "metadata": {},
   "outputs": [],
   "source": [
    "val = data.sample(frac = 0.3)"
   ]
  },
  {
   "cell_type": "code",
   "execution_count": 10,
   "id": "aee944fb",
   "metadata": {},
   "outputs": [],
   "source": [
    "val.to_csv('../../02_Data/02_Validation/validation.csv', index=False)"
   ]
  },
  {
   "cell_type": "markdown",
   "id": "8483a9a5",
   "metadata": {},
   "source": [
    "### Work dataset"
   ]
  },
  {
   "cell_type": "code",
   "execution_count": 16,
   "id": "af87db10",
   "metadata": {},
   "outputs": [],
   "source": [
    "work = data.loc[~data.index.isin(val.index)]"
   ]
  },
  {
   "cell_type": "code",
   "execution_count": 17,
   "id": "a5ae9d5e",
   "metadata": {},
   "outputs": [],
   "source": [
    "work.to_csv('../../02_Data/03_Work/work.csv', index=False)"
   ]
  }
 ],
 "metadata": {
  "kernelspec": {
   "display_name": "Python 3 (ipykernel)",
   "language": "python",
   "name": "python3"
  },
  "language_info": {
   "codemirror_mode": {
    "name": "ipython",
    "version": 3
   },
   "file_extension": ".py",
   "mimetype": "text/x-python",
   "name": "python",
   "nbconvert_exporter": "python",
   "pygments_lexer": "ipython3",
   "version": "3.11.11"
  },
  "toc": {
   "base_numbering": 1,
   "nav_menu": {},
   "number_sections": true,
   "sideBar": true,
   "skip_h1_title": false,
   "title_cell": "Table of Contents",
   "title_sidebar": "Contents",
   "toc_cell": false,
   "toc_position": {},
   "toc_section_display": true,
   "toc_window_display": false
  },
  "varInspector": {
   "cols": {
    "lenName": 16,
    "lenType": 16,
    "lenVar": 40
   },
   "kernels_config": {
    "python": {
     "delete_cmd_postfix": "",
     "delete_cmd_prefix": "del ",
     "library": "var_list.py",
     "varRefreshCmd": "print(var_dic_list())"
    },
    "r": {
     "delete_cmd_postfix": ") ",
     "delete_cmd_prefix": "rm(",
     "library": "var_list.r",
     "varRefreshCmd": "cat(var_dic_list()) "
    }
   },
   "types_to_exclude": [
    "module",
    "function",
    "builtin_function_or_method",
    "instance",
    "_Feature"
   ],
   "window_display": true
  }
 },
 "nbformat": 4,
 "nbformat_minor": 5
}
